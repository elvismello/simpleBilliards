{
 "cells": [
  {
   "cell_type": "code",
   "execution_count": 403,
   "metadata": {},
   "outputs": [],
   "source": [
    "import numpy as np\n",
    "import matplotlib.pyplot as plt\n",
    "from matplotlib import animation"
   ]
  },
  {
   "cell_type": "code",
   "execution_count": 398,
   "metadata": {},
   "outputs": [],
   "source": [
    "class simple_particle:\n",
    "\n",
    "    def __init__ (self, mass, pos, vel, color='#1f77b4'):\n",
    "        self.mass = mass\n",
    "        self.pos = np.array(pos)\n",
    "        self.vel = np.array(vel)\n",
    "        self.acel = np.array([0.0, 0.0, 0.0])\n",
    "        self.color = color\n",
    "\n",
    "\n",
    "\n",
    "class non_rotating_pool_ball(simple_particle):\n",
    "\n",
    "    def __init__ (self, radius, mass, pos, vel, color='#1f77b4'):\n",
    "        self.mass = mass\n",
    "        self.pos = np.array(pos)\n",
    "        self.vel = np.array(vel)\n",
    "        self.acel = np.array([0.0, 0.0, 0.0])\n",
    "        self.color = color\n",
    "        self.radius = radius\n",
    "        self.is_colliding = False\n",
    "\n",
    "\n",
    "\n",
    "def detect_collision(ball_1, ball_2):\n",
    "\n",
    "    distance_between = np.linalg.norm(ball_1.pos - ball_2.pos)\n",
    "    \n",
    "    if distance_between < (ball_1.radius + ball_2.radius):\n",
    "        return True\n",
    "    else:\n",
    "        return False\n",
    "\n",
    "\n",
    "\n",
    "def get_collision_normal(ball_1, ball_2):\n",
    "\n",
    "    vector = ball_1.pos - ball_2.pos\n",
    "    unit_vector = vector / np.linalg.norm(vector)\n",
    "    \n",
    "    return unit_vector\n",
    "\n",
    "\n",
    "\n",
    "def project_vectors(x, y):\n",
    "    \"\"\" projects x onto y \"\"\"\n",
    "    return y * np.dot(x, y) / np.dot(y, y)\n",
    "\n",
    "\n",
    "\n",
    "def calculate_collision(ball_1, ball_2):\n",
    "\n",
    "    if not(ball_1.is_colliding and ball_2.is_colliding):\n",
    "    #if True:\n",
    "        collision_normal = get_collision_normal(ball_1, ball_2)\n",
    "\n",
    "        ball_1_parallel = project_vectors(ball_1.vel, collision_normal)\n",
    "        ball_1_perpendicular = ball_1.vel - ball_1_parallel\n",
    "\n",
    "        ball_2_parallel = project_vectors(ball_2.vel, collision_normal)\n",
    "        ball_2_perpendicular = ball_2.vel - ball_2_parallel\n",
    "\n",
    "\n",
    "        mass_sum = ball_1.mass + ball_2.mass\n",
    "\n",
    "        ball_1_parallel_final = (ball_1_parallel * (ball_1.mass - ball_2.mass) + 2 * ball_2.mass * ball_2_parallel) / mass_sum\n",
    "        ball_2_parallel_final = (ball_2_parallel * (ball_2.mass - ball_1.mass) + 2 * ball_1.mass * ball_1_parallel) / mass_sum\n",
    "\n",
    "\n",
    "        ball_1.vel = ball_1_perpendicular + ball_1_parallel_final\n",
    "        ball_2.vel = ball_2_perpendicular + ball_2_parallel_final\n",
    "\n",
    "        ball_1.is_colliding = True\n",
    "        ball_2.is_colliding = True\n",
    "    \n",
    "    return 0\n",
    "\n",
    "\n",
    "\n",
    "def integratePosVel(particle, deltaT=0.01):\n",
    "    # utilizing the leapfrog method\n",
    "    velHalf = particle.vel + particle.acel * deltaT / 2\n",
    "    particle.pos = particle.pos + velHalf * deltaT\n",
    "    #particle.acel = particle._getAcel(particle.pos, particles)\n",
    "    particle.acel = 0\n",
    "    particle.vel = velHalf + particle.acel * deltaT / 2\n",
    "\n",
    "\n",
    "\n",
    "def get_rotation_matrix (alpha=0.0, beta=0.0, gamma=0.0, dtype='float64'):\n",
    "    \"\"\"\n",
    "    alpha: angle of rotation around the x axis\n",
    "    beta: angle of rotation around the y axis\n",
    "    gamma: angle of rotation around the z axis\n",
    "    \"\"\"\n",
    "    # It may be better to find a way to apply a rotation without using an external for loop.\n",
    "\n",
    "    #rotation matrix in x\n",
    "    rAlpha = np.array([[1,             0,              0],\n",
    "                       [0, np.cos(alpha), -np.sin(alpha)],\n",
    "                       [0, np.sin(alpha), np.cos(alpha)]], dtype=dtype)\n",
    "    \n",
    "    #rotation matrix in y\n",
    "    rBeta = np.array([[np.cos(beta),  0,  np.sin(beta)],\n",
    "                      [0,             1,             0],\n",
    "                      [-np.sin(beta), 0, np.cos(beta)]], dtype=dtype)\n",
    "\n",
    "    #rotation matrix in z\n",
    "    rGamma = np.array([[np.cos(gamma), -np.sin(gamma), 0],\n",
    "                       [np.sin(gamma),  np.cos(gamma), 0],\n",
    "                       [0,                          0, 1]], dtype=dtype)\n",
    "\n",
    "    rGeneral = np.matmul(np.matmul(rGamma, rBeta), rAlpha, dtype=dtype)\n",
    "    \n",
    "    return rGeneral\n",
    "\n",
    "\n",
    "\n",
    "def update_simulation_state (j):\n",
    "    xs = []\n",
    "    ys = []\n",
    "    cs = []\n",
    "\n",
    "    deltaT = DT # Possible implementation of a variable timestep\n",
    "    \n",
    "    for i in particles:\n",
    "        i.integratePosVel(deltaT, particles)\n",
    "\n",
    "        xs.append(i.pos[0])\n",
    "        ys.append(i.pos[1])\n",
    "        cs.append(i.color)\n",
    "\n",
    "\n",
    "    ax1.clear()\n",
    "\n",
    "    ax1.scatter(xs, ys, s=2, c=cs[:])\n",
    "\n",
    "    #ax1.set_xlabel('X Position (AU)')\n",
    "    #ax1.set_ylabel('Y Position (AU)')\n",
    "    ax1.set_axis_off()\n",
    "\n",
    "    plt.xlim(-BOUNDS, BOUNDS)\n",
    "    plt.ylim(-BOUNDS, BOUNDS)\n"
   ]
  },
  {
   "cell_type": "code",
   "execution_count": 399,
   "metadata": {},
   "outputs": [
    {
     "name": "stdout",
     "output_type": "stream",
     "text": [
      "True\n",
      "0\n"
     ]
    }
   ],
   "source": [
    "ITERATIONS = 3000\n",
    "DELTA_T = 0.01\n",
    "\n",
    "\n",
    "rotation_matrix = get_rotation_matrix(0, 0, np.radians(360))\n",
    "\n",
    "\n",
    "pos_1 = rotation_matrix @ (2 * np.array([0, 1, 0]))\n",
    "pos_2 = rotation_matrix @ (2 * np.array([4, 1, 0]))\n",
    "\n",
    "vel_1 = rotation_matrix @ np.array([.2, .1, 0])\n",
    "vel_2 = rotation_matrix @ np.array([-.2, .1, 0])\n",
    "\n",
    "\n",
    "test_particle_1 = non_rotating_pool_ball(1, 2, pos_1, vel_1)\n",
    "test_particle_2 = non_rotating_pool_ball(1, 1, pos_2, vel_2)\n",
    "\n",
    "positions_1 = []\n",
    "positions_2 = []\n",
    "for i in range(ITERATIONS):\n",
    "    integratePosVel(test_particle_1)\n",
    "    positions_1.append(test_particle_1.pos)\n",
    "\n",
    "    integratePosVel(test_particle_2)\n",
    "    positions_2.append(test_particle_2.pos)\n",
    "\n",
    "    if detect_collision(test_particle_1, test_particle_2):\n",
    "        print(detect_collision(test_particle_1, test_particle_2))\n",
    "        print(calculate_collision(test_particle_1, test_particle_2))\n",
    "\n",
    "        #break\n",
    "\n",
    "positions_1 = np.array(positions_1)\n",
    "positions_2 = np.array(positions_2)"
   ]
  },
  {
   "cell_type": "code",
   "execution_count": 406,
   "metadata": {},
   "outputs": [
    {
     "data": {
      "text/plain": [
       "False"
      ]
     },
     "execution_count": 406,
     "metadata": {},
     "output_type": "execute_result"
    }
   ],
   "source": [
    "test_particle_1 != test_particle_1"
   ]
  },
  {
   "cell_type": "code",
   "execution_count": null,
   "metadata": {},
   "outputs": [],
   "source": [
    "ts"
   ]
  },
  {
   "cell_type": "code",
   "execution_count": null,
   "metadata": {},
   "outputs": [],
   "source": [
    "anim = animation.FuncAnimation(fig,\n",
    "                                simulate,\n",
    "                                interval=ITVL_PYPLOT,\n",
    "                                blit=False)"
   ]
  },
  {
   "cell_type": "code",
   "execution_count": 400,
   "metadata": {},
   "outputs": [
    {
     "data": {
      "text/plain": [
       "(3000, 3)"
      ]
     },
     "execution_count": 400,
     "metadata": {},
     "output_type": "execute_result"
    }
   ],
   "source": [
    "positions_1.shape"
   ]
  },
  {
   "cell_type": "code",
   "execution_count": 401,
   "metadata": {},
   "outputs": [
    {
     "data": {
      "image/png": "[encoded data removed]",
      "text/plain": [
       "<Figure size 640x480 with 1 Axes>"
      ]
     },
     "metadata": {},
     "output_type": "display_data"
    }
   ],
   "source": [
    "fig, ax = plt.subplots()\n",
    "\n",
    "ax.plot(positions_1[:, 0], positions_1[:, 1])\n",
    "ax.plot(positions_2[:, 0], positions_2[:, 1])\n",
    "\n",
    "ax.set_aspect(\"equal\")"
   ]
  },
  {
   "cell_type": "code",
   "execution_count": null,
   "metadata": {},
   "outputs": [
    {
     "ename": "SyntaxError",
     "evalue": "invalid syntax (561371742.py, line 3)",
     "output_type": "error",
     "traceback": [
      "\u001b[0;36m  Cell \u001b[0;32mIn[402], line 3\u001b[0;36m\u001b[0m\n\u001b[0;31m    ax.plot(positions_1[:, 0])ball_1_parallel_versor\u001b[0m\n\u001b[0m                              ^\u001b[0m\n\u001b[0;31mSyntaxError\u001b[0m\u001b[0;31m:\u001b[0m invalid syntax\n"
     ]
    }
   ],
   "source": [
    "fig, ax = plt.subplots()\n",
    "ax.plot(positions_1[:, 0])\n",
    "ball_1_parallel_versor"
   ]
  },
  {
   "cell_type": "markdown",
   "metadata": {},
   "source": [
    "\\begin{align}\n",
    "    m_1 v_{10} + m_2 v_{20} &= m_1 v_{11} + m_2 v_{21}\\\\\n",
    "    \\frac{m_1}{2} v_{10}^2 + \\frac{m_2}{2} v_{20}^2 &= \\frac{m_1}{2} v_{11}^2 + \\frac{m_2}{2} v_{21}^2\n",
    "\n",
    "\\end{align}"
   ]
  },
  {
   "cell_type": "markdown",
   "metadata": {},
   "source": [
    "\\begin{align}\n",
    "    v_{11} &= \\sqrt{\\frac{2}{m_1} \\left( \\frac{m_1}{2} v_{10}^2 + \\frac{m_2}{2} v_{20}^2 - \\frac{m_2}{2} v_{21}^2 \\right)}\\\\\n",
    "    v_{11} &= \\sqrt{ \\left(v_{10}^2 + \\frac{m_2}{m_1} v_{20}^2 - \\frac{m_2}{m_1} v_{21}^2 \\right)}\\\\\n",
    "\\end{align}"
   ]
  }
 ],
 "metadata": {
  "kernelspec": {
   "display_name": "Python 3",
   "language": "python",
   "name": "python3"
  },
  "language_info": {
   "codemirror_mode": {
    "name": "ipython",
    "version": 3
   },
   "file_extension": ".py",
   "mimetype": "text/x-python",
   "name": "python",
   "nbconvert_exporter": "python",
   "pygments_lexer": "ipython3",
   "version": "3.8.10"
  }
 },
 "nbformat": 4,
 "nbformat_minor": 2
}
